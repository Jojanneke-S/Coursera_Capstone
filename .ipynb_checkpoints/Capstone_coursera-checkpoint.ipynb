{
 "cells": [
  {
   "cell_type": "markdown",
   "metadata": {},
   "source": [
    "## Characterisation of city districts in Amsterdam for prospective residents ##"
   ]
  },
  {
   "cell_type": "markdown",
   "metadata": {},
   "source": [
    "## Introduction / Business problem \n",
    "\n",
    "Problem: finding a suitable accomodation (to buy or rent) can be quite difficult in an unfamiliar city, certainly when the city is quite large. Finding the perfect accomodation is not only a matter of finding a house of the right size, price, and lay-out, but is also heavily dependent on the neighbourhood where it is located and the amenities nearby. While housing sites may offer a clear description of the house itself and possibly a short description of its neighbourhood it would be much more convenient to first decide on a neighbourhood before starting to look at specific houses. Of course, one can decide to visit the city before starting the actual house hunting process to get a feel for the different neighbourhoods, but this is not always possible or prefered (e.g due to high travel costs or long travel time, or currently due to travel-restrictions). An alternative might be to ask an estate agent for help, but this can be quite costly and is not always wanted since nowadays it is quite easy to buy or rent a house without the help of an estate agent. A tool which helps house hunters discover which neighbourhoods in their city of choice are best suited to their preferences may reduce the time needed to find a suitable house and may also improve satisfaction with their chosen accomodation."
   ]
  },
  {
   "cell_type": "markdown",
   "metadata": {},
   "source": [
    "## Data\n",
    "To answer this problem I will make use of two datasources: Foursquare and the publicly available datasets provided by the municipality of Amsterdam (data.amsterdam.nl). Where Foursquare provides information on the location and type of venues, data.amsterdam.nl provides information on population statistics (e.g. age distribution, nationality, education, and income) as well as on housing (e.g. living area, and average value of housing). \n",
    "\n",
    "For statistical purposes Amsterdam can be divided into 8 neighbourhoods (coordinates can be downloaded from: https://maps.amsterdam.nl/open_geodata/). \n",
    "The venue data from Foursquare will be categorised into six groups: \n",
    "1. restaurants (including pubs and diners)\n",
    "2. shopping (shops and stores)\n",
    "3. markets\n",
    "4. parks\n",
    "5. sport (including gyms, pools, and yoga studios)\n",
    "6. culture (theater, museums, music venues, opera houses, and other art)\n",
    "\n",
    "These data will be combined with the data from data.amsterdam.nl on:\n",
    "* age distribution\n",
    "* nationality\n",
    "* highest level of education \n",
    "* income\n",
    "* size of living area\n",
    "* average value of housing \n",
    "\n",
    "Together, this information will be used to describe the neighbourhoods and make recommendations for prospective house buyers/movers. "
   ]
  },
  {
   "cell_type": "code",
   "execution_count": null,
   "metadata": {},
   "outputs": [],
   "source": []
  }
 ],
 "metadata": {
  "kernelspec": {
   "display_name": "Python 3",
   "language": "python",
   "name": "python3"
  },
  "language_info": {
   "codemirror_mode": {
    "name": "ipython",
    "version": 3
   },
   "file_extension": ".py",
   "mimetype": "text/x-python",
   "name": "python",
   "nbconvert_exporter": "python",
   "pygments_lexer": "ipython3",
   "version": "3.7.6"
  }
 },
 "nbformat": 4,
 "nbformat_minor": 4
}

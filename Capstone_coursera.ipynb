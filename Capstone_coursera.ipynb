{
 "cells": [
  {
   "cell_type": "markdown",
   "metadata": {},
   "source": [
    "## tool to advise on which neighbourhood in Amsterdam to move to based on client preferences ##"
   ]
  },
  {
   "cell_type": "markdown",
   "metadata": {},
   "source": [
    "## Introduction / Business problem \n",
    "\n",
    "#### Problem: finding a suitable accomodation (to buy or rent) can be quite difficult in an unfamiliar city, certainly when the city is quite large. Finding the perfect accomodation is not only a matter of finding a house of the right size, price, and lay-out, but is also heavily dependent on the neighbourhood where it is located and the amenities nearby. While housing sites may offer a clear description of the house itself and possibly a short description of its neighbourhood it would be much more convenient to first decide on a neighbourhood before starting to look at specific houses. Of course, one can decide to visit the city before starting the actual house hunting process to get a feel for the different neighbourhoods, but this is not always possible or prefered (e.g due to high travel costs or long travel time, or currently due to travel-restrictions). An alternative might be to ask an estate agent for help, but this can be quite costly and is not always wanted since nowadays it is quite easy to buy or rent a house without the help of an estate agent. A tool which helps house hunters discover which neighbourhoods in their city of choice are best suited to their preferences may reduce the time needed to find a suitable house and may also improve satisfaction with their chosen accomodation."
   ]
  },
  {
   "cell_type": "markdown",
   "metadata": {},
   "source": [
    "## Data\n",
    "#### Foursquare can provide a list of venues in a city of choice. To discover which neighbourhood best fits with the preferences of the client in terms of the availability of certain venues these venues will be grouped into seven categories:\n",
    "1. restaurants (including pubs and diners)\n",
    "2. shopping (shops and stores)\n",
    "3. markets \n",
    "4. parks \n",
    "5. sport (including gyms, pools, and yoga studios)\n",
    "6. culture (theater, museums, music venues, opera houses, and other art)\n",
    "7. public transport (bus lines, train stations)\n",
    "#### The client will be asked to rank these seven categories in order from most to least important. This order will be used to weigh the number of venues within each category. The final score of each neighbourhood is the sum of the weighted categories, with the heighest score being the best suited to the clients preferences.\n",
    "\n",
    "#### Where to get information on neighbourhoods in Amsterdam???\n",
    "\n",
    "### Note: For this excercise I have chosen to use data for Amsterdam (because I used to study there and never really got to know the city) but it would be easy to adjust the code to another city as long as you know the location/borders of the neighbourhoods of your city of choice. "
   ]
  },
  {
   "cell_type": "code",
   "execution_count": null,
   "metadata": {},
   "outputs": [],
   "source": []
  }
 ],
 "metadata": {
  "kernelspec": {
   "display_name": "Python 3",
   "language": "python",
   "name": "python3"
  },
  "language_info": {
   "codemirror_mode": {
    "name": "ipython",
    "version": 3
   },
   "file_extension": ".py",
   "mimetype": "text/x-python",
   "name": "python",
   "nbconvert_exporter": "python",
   "pygments_lexer": "ipython3",
   "version": "3.7.6"
  }
 },
 "nbformat": 4,
 "nbformat_minor": 4
}

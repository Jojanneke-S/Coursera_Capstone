{
 "cells": [
  {
   "cell_type": "markdown",
   "metadata": {},
   "source": [
    "## tool to advise on which neighbourhood in Amsterdam to move to based on client preferences ##"
   ]
  },
  {
   "cell_type": "markdown",
   "metadata": {},
   "source": [
    "## Introduction / Business problem \n",
    "\n",
    "#### Problem: finding a suitable accomodation (to buy or rent) can be quite difficult in an unfamiliar city, certainly when the city is quite large. Finding the perfect accomodation is not only a matter of finding a house of the right size, price, and lay-out, but is also heavily dependent on the neighbourhood where it is located and the amenities nearby. While housing sites may offer a clear description of the house itself and possibly a short description of its neighbourhood it would be much more convenient to first decide on a neighbourhood before starting to look at specific houses. Of course, one can decide to visit the city before starting the actual house hunting process to get a feel for the different neighbourhoods, but this is not always possible or prefered (e.g due to high travel costs or long travel time, or currently due to travel-restrictions). An alternative might be to ask an estate agent for help, but this can be quite costly and is not always wanted since nowadays it is quite easy to buy or rent a house without the help of an estate agent. A tool which helps house hunters discover which neighbourhoods in their city of choice are best suited to their preferences may reduce the time needed to find a suitable house and may also improve satisfaction with their chosen accomodation."
   ]
  },
  {
   "cell_type": "code",
   "execution_count": null,
   "metadata": {},
   "outputs": [],
   "source": []
  }
 ],
 "metadata": {
  "kernelspec": {
   "display_name": "Python 3",
   "language": "python",
   "name": "python3"
  },
  "language_info": {
   "codemirror_mode": {
    "name": "ipython",
    "version": 3
   },
   "file_extension": ".py",
   "mimetype": "text/x-python",
   "name": "python",
   "nbconvert_exporter": "python",
   "pygments_lexer": "ipython3",
   "version": "3.7.6"
  }
 },
 "nbformat": 4,
 "nbformat_minor": 4
}
